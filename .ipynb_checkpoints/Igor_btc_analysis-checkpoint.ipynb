{
 "cells": [
  {
   "cell_type": "markdown",
   "id": "11cd1dab-8a80-4468-8bc5-59b722e04265",
   "metadata": {},
   "source": [
    "This is Igor's Notebook and here we will explore how LSTM can predict the performance of bitcoin!"
   ]
  },
  {
   "cell_type": "code",
   "execution_count": null,
   "id": "f78076f6-fbe8-46f7-abc0-bc5878ca5bd9",
   "metadata": {},
   "outputs": [],
   "source": []
  }
 ],
 "metadata": {
  "kernelspec": {
   "display_name": "Python 3.11 (default)",
   "language": "python",
   "name": "python3"
  },
  "language_info": {
   "codemirror_mode": {
    "name": "ipython",
    "version": 3
   },
   "file_extension": ".py",
   "mimetype": "text/x-python",
   "name": "python",
   "nbconvert_exporter": "python",
   "pygments_lexer": "ipython3",
   "version": "3.11.11"
  }
 },
 "nbformat": 4,
 "nbformat_minor": 5
}
